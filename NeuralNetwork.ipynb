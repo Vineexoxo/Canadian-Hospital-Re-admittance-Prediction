{
  "cells": [
    {
      "cell_type": "markdown",
      "metadata": {
        "id": "5PUvbnKrIgik"
      },
      "source": [
        "\n",
        "*   Madhav Sood IMT2021009\n",
        "*   Vineet Priyedarshi IMT2021018\n",
        "*   Shlok Agrawal IMT2021103\n"
      ]
    },
    {
      "cell_type": "code",
      "execution_count": 38,
      "metadata": {
        "id": "T88ezmERqOYO",
        "colab": {
          "base_uri": "https://localhost:8080/"
        },
        "outputId": "69a0ca69-11f4-41f6-d9be-11c597186b13"
      },
      "outputs": [
        {
          "output_type": "stream",
          "name": "stdout",
          "text": [
            "Downloading...\n",
            "From: https://drive.google.com/uc?id=18Gn0ndFQooqUXzuP_aP2aEwUFZ5SKp0e\n",
            "To: /content/train.csv\n",
            "100% 12.6M/12.6M [00:00<00:00, 144MB/s]\n",
            "Downloading...\n",
            "From: https://drive.google.com/uc?id=13urXnrbu92GVmqFIkGS4mh7Mc6X0OI5-\n",
            "To: /content/test.csv\n",
            "100% 5.34M/5.34M [00:00<00:00, 193MB/s]\n",
            "Downloading...\n",
            "From: https://drive.google.com/uc?id=1FBugfSuiKYyATK60LbKtEJgCwAG5IU5Q\n",
            "To: /content/sample_submission.csv\n",
            "100% 418k/418k [00:00<00:00, 118MB/s]\n"
          ]
        }
      ],
      "source": [
        "!gdown 18Gn0ndFQooqUXzuP_aP2aEwUFZ5SKp0e\n",
        "!gdown 13urXnrbu92GVmqFIkGS4mh7Mc6X0OI5-\n",
        "!gdown 1FBugfSuiKYyATK60LbKtEJgCwAG5IU5Q"
      ]
    },
    {
      "cell_type": "code",
      "execution_count": 39,
      "metadata": {
        "id": "n38XDMNtqTYJ"
      },
      "outputs": [],
      "source": [
        "import numpy as np\n",
        "import pandas as pd\n",
        "import matplotlib.pyplot as plt\n",
        "import urllib\n",
        "import sklearn\n",
        "from sklearn import svm\n",
        "from sklearn.naive_bayes import BernoulliNB\n",
        "from sklearn.naive_bayes import GaussianNB\n",
        "from sklearn.naive_bayes import MultinomialNB\n",
        "from sklearn.linear_model import LogisticRegression\n",
        "from sklearn.model_selection import train_test_split, RandomizedSearchCV\n",
        "from sklearn.linear_model import LinearRegression\n",
        "from sklearn.preprocessing import PolynomialFeatures, StandardScaler, LabelEncoder\n",
        "from sklearn.metrics import accuracy_score, confusion_matrix\n",
        "import seaborn as sns\n",
        "import xgboost as xgb\n",
        "from sklearn.ensemble import GradientBoostingClassifier\n",
        "from keras.utils import to_categorical"
      ]
    },
    {
      "cell_type": "code",
      "execution_count": 40,
      "metadata": {
        "id": "I9Ao2uflReAT",
        "colab": {
          "base_uri": "https://localhost:8080/"
        },
        "outputId": "66dea1dc-5e24-4e59-eceb-9c8f2c7f364d"
      },
      "outputs": [
        {
          "output_type": "stream",
          "name": "stdout",
          "text": [
            "(71236, 50)\n",
            "54151\n"
          ]
        }
      ],
      "source": [
        "test_df = pd.read_csv(\"/content/test.csv\")\n",
        "df = pd.read_csv(\"/content/train.csv\")\n",
        "\n",
        "\n",
        "print(df.shape)\n",
        "print(df['patient_id'].nunique())"
      ]
    },
    {
      "cell_type": "code",
      "source": [
        "train_frequency = df['patient_id'].value_counts().to_dict()\n",
        "test_frequency = test_df['patient_id'].value_counts().to_dict()\n",
        "\n",
        "# Combine train and test frequencies\n",
        "combined_frequency = {key: train_frequency.get(key, 0) + test_frequency.get(key, 0) for key in set(train_frequency) | set(test_frequency)}\n",
        "\n",
        "# Add 'frequency' column to both DataFrames\n",
        "df['frequency'] = df['patient_id'].map(combined_frequency)\n",
        "test_df['frequency'] = test_df['patient_id'].map(combined_frequency)\n"
      ],
      "metadata": {
        "id": "chfjKfymeIWd"
      },
      "execution_count": 41,
      "outputs": []
    },
    {
      "cell_type": "code",
      "source": [
        "from sklearn.preprocessing import LabelEncoder\n",
        "from sklearn.preprocessing import OneHotEncoder\n",
        "from sklearn.impute import SimpleImputer"
      ],
      "metadata": {
        "id": "u-3GBwOU9Wj7"
      },
      "execution_count": 42,
      "outputs": []
    },
    {
      "cell_type": "code",
      "source": [
        "# Extract features and labels\n",
        "X = df.drop(['enc_id', 'patient_id', 'readmission_id', 'repaglinide', 'nateglinide', 'chlorpropamide',\n",
        "             'acetohexamide', 'tolbutamide', 'acarbose', 'miglitol', 'troglitazone',\n",
        "             'tolazamide', 'examide', 'citoglipton', 'glyburide-metformin', 'glipizide-metformin',\n",
        "             'metformin-rosiglitazone', 'metformin-pioglitazone', 'glimepiride-pioglitazone'], axis=1)\n",
        "\n",
        "Y = df['readmission_id']\n",
        "test_df = test_df.drop(['enc_id', 'patient_id', 'repaglinide', 'nateglinide', 'chlorpropamide',\n",
        "             'acetohexamide', 'tolbutamide', 'acarbose', 'miglitol', 'troglitazone',\n",
        "             'tolazamide', 'examide', 'citoglipton', 'glyburide-metformin', 'glipizide-metformin',\n",
        "             'metformin-rosiglitazone', 'metformin-pioglitazone', 'glimepiride-pioglitazone'], axis=1)\n",
        "\n",
        "\n",
        "numerical_columns = X.select_dtypes(include=['int64', 'float64']).columns\n",
        "categorical_columns = X.select_dtypes(include=['object']).columns"
      ],
      "metadata": {
        "id": "HqIretYcgETp"
      },
      "execution_count": 43,
      "outputs": []
    },
    {
      "cell_type": "code",
      "source": [
        "# Impute missing values for numerical columns\n",
        "numerical_imputer = SimpleImputer(strategy='most_frequent')\n",
        "X[numerical_columns] = numerical_imputer.fit_transform(X[numerical_columns])\n",
        "test_df[numerical_columns] = numerical_imputer.transform(test_df[numerical_columns])\n",
        "\n",
        "# Impute missing values for categorical columns\n",
        "categorical_imputer = SimpleImputer(strategy='most_frequent')\n",
        "X[categorical_columns] = categorical_imputer.fit_transform(X[categorical_columns])\n",
        "test_df[categorical_columns] = categorical_imputer.transform(test_df[categorical_columns])\n",
        "\n",
        "# One-hot encode categorical columns\n",
        "categorical_encoder = OneHotEncoder(handle_unknown='ignore', sparse=False)\n",
        "X_encoded = categorical_encoder.fit_transform(X[categorical_columns])\n",
        "test_data_processed = categorical_encoder.transform(test_df[categorical_columns])\n",
        "\n",
        "# Combine numerical and encoded categorical features\n",
        "X_final = pd.concat([X[numerical_columns], pd.DataFrame(X_encoded, columns=categorical_encoder.get_feature_names_out(categorical_columns))], axis=1)\n",
        "test_df_encoded = pd.concat([test_df[numerical_columns], pd.DataFrame(test_data_processed, columns=categorical_encoder.get_feature_names_out(categorical_columns))], axis=1)\n",
        "\n",
        "# Split the training data for training and validation\n",
        "#X_train, X_test, Y_train, Y_test = train_test_split(X_final, Y, test_size=0.2, random_state=42)\n"
      ],
      "metadata": {
        "colab": {
          "base_uri": "https://localhost:8080/"
        },
        "id": "UbprQUhWhbjv",
        "outputId": "f2a661b0-d6d0-4547-caa4-1d5c4a31586c"
      },
      "execution_count": 44,
      "outputs": [
        {
          "output_type": "stream",
          "name": "stderr",
          "text": [
            "/usr/local/lib/python3.10/dist-packages/sklearn/preprocessing/_encoders.py:868: FutureWarning: `sparse` was renamed to `sparse_output` in version 1.2 and will be removed in 1.4. `sparse_output` is ignored unless you leave `sparse` to its default value.\n",
            "  warnings.warn(\n"
          ]
        }
      ]
    },
    {
      "cell_type": "code",
      "execution_count": 45,
      "metadata": {
        "id": "UFbechHxwMLx"
      },
      "outputs": [],
      "source": [
        "# Standardize the numerical columns\n",
        "# scaler = StandardScaler()\n",
        "\n",
        "# # Standardize the numerical columns in the training data\n",
        "# X_final[numerical_columns] = scaler.fit_transform(X_final[numerical_columns])\n",
        "\n",
        "# # Use the same scaler to standardize the numerical columns in the test data\n",
        "# X_final[numerical_columns] = scaler.transform(X_final[numerical_columns])\n",
        "\n",
        "# X_test_data = test_df_encoded\n",
        "\n",
        "# # Standardize the numerical columns in the test data (assuming test_df_encoded is your test data)\n",
        "# X_test_data[numerical_columns] = scaler.transform(X_test_data[numerical_columns])\n",
        "\n",
        "\n",
        "# test_df_encoded = X_test_data\n",
        "\n",
        "# print(X_train.shape)"
      ]
    },
    {
      "cell_type": "code",
      "source": [
        "import numpy as np\n",
        "import pandas as pd\n",
        "import matplotlib.pyplot as plt\n",
        "import seaborn as sns\n",
        "from sklearn.model_selection import train_test_split\n",
        "from sklearn.metrics import accuracy_score,f1_score\n",
        "from sklearn.preprocessing import LabelEncoder\n",
        "from sklearn.preprocessing import OneHotEncoder\n",
        "from sklearn.metrics import accuracy_score\n",
        "from pprint import pprint\n",
        "\n",
        "import torch\n",
        "import torch.nn as nn\n",
        "from torch.utils.data import Dataset, DataLoader\n",
        "from tqdm import tqdm\n",
        "import optuna\n",
        "\n",
        "import gc\n",
        "import time\n",
        "\n",
        "device = torch.device('cuda' if torch.cuda.is_available() else 'cpu')"
      ],
      "metadata": {
        "id": "r27QUtj9pkqx"
      },
      "execution_count": 46,
      "outputs": []
    },
    {
      "cell_type": "code",
      "source": [
        "class ANN(nn.Module):\n",
        "    def __init__(\n",
        "        self,\n",
        "        in_dim: int,\n",
        "        hidden_dim_1: int,\n",
        "        hidden_dim_2: int,\n",
        "        hidden_dim_3: int,\n",
        "        hidden_dim_4: int,\n",
        "        # hidden_dim_5: int,\n",
        "        n_classes:int = 3,\n",
        "        dropout: float = 0.3\n",
        "    ):\n",
        "        super().__init__()\n",
        "\n",
        "        self.layer1 = nn.Sequential(\n",
        "            nn.Linear(in_features=in_dim, out_features=hidden_dim_1),\n",
        "            nn.ReLU(),\n",
        "            nn.BatchNorm1d(hidden_dim_1),\n",
        "            nn.Dropout(dropout),\n",
        "        )\n",
        "        self.layer2 = nn.Sequential(\n",
        "            nn.Linear(in_features=hidden_dim_1, out_features=hidden_dim_2),\n",
        "            nn.ReLU(),\n",
        "            nn.BatchNorm1d(hidden_dim_2),\n",
        "            nn.Dropout(dropout),\n",
        "        )\n",
        "        self.layer3 = nn.Sequential(\n",
        "            nn.Linear(in_features=hidden_dim_2, out_features=hidden_dim_3),\n",
        "            nn.ReLU(),\n",
        "            nn.BatchNorm1d(hidden_dim_3),\n",
        "            nn.Dropout(dropout),\n",
        "        )\n",
        "        self.layer4 = nn.Sequential(\n",
        "            nn.Linear(in_features=hidden_dim_3, out_features=hidden_dim_4),\n",
        "            nn.ReLU(),\n",
        "            nn.BatchNorm1d(hidden_dim_4),\n",
        "            nn.Dropout(dropout),\n",
        "        )\n",
        "        # self.layer5 = nn.Sequential(\n",
        "        #     nn.Linear(in_features=hidden_dim_4, out_features=hidden_dim_5),\n",
        "        #     nn.ReLU(),\n",
        "        #     nn.BatchNorm1d(hidden_dim_5),\n",
        "        #     nn.Dropout(dropout),\n",
        "        # )\n",
        "        self.output_layer = nn.Linear(in_features=hidden_dim_4, out_features=n_classes)\n",
        "\n",
        "    def forward(self, x: torch.Tensor) -> torch.Tensor:\n",
        "        \"\"\"\n",
        "            Args:\n",
        "                x (torch.Tensor): (batch_size, in_dim) the input\n",
        "\n",
        "            Output:\n",
        "                (torch.Tensor): (batch_size, n_classes) the output\n",
        "        \"\"\"\n",
        "        x = self.layer1(x)\n",
        "        x = self.layer2(x)\n",
        "        x = self.layer3(x)\n",
        "        x = self.layer4(x)\n",
        "        # x = self.layer5(x)\n",
        "        x = self.output_layer(x)\n",
        "\n",
        "        return x"
      ],
      "metadata": {
        "id": "lsyMYIpOqSnu"
      },
      "execution_count": 47,
      "outputs": []
    },
    {
      "cell_type": "code",
      "source": [
        "class Data(Dataset):\n",
        "    def __init__(\n",
        "        self,\n",
        "        data\n",
        "    ):\n",
        "        n = data.shape[1]\n",
        "        self.features = torch.tensor(data.iloc[:, 0:n-1].values.astype(np.int64), dtype=torch.float32)\n",
        "        self.labels = torch.tensor(data.iloc[:, -1].values.astype(np.int64), dtype=torch.int64)\n",
        "\n",
        "    def __getitem__(self, index):\n",
        "        return self.features[index], self.labels[index]\n",
        "\n",
        "    def __len__(self):\n",
        "        return len(self.features)"
      ],
      "metadata": {
        "id": "fr4ovos2qmkn"
      },
      "execution_count": 48,
      "outputs": []
    },
    {
      "cell_type": "code",
      "source": [
        "X_train, X_test, Y_train, Y_test = train_test_split(X_final, Y, test_size=0.2, random_state=42, stratify=Y)\n",
        "X_train = pd.DataFrame(X_train)\n",
        "Y_train = pd.DataFrame(Y_train)\n",
        "X_test = pd.DataFrame(X_test)\n",
        "Y_test = pd.DataFrame(Y_test)\n",
        "\n",
        "X_train = pd.concat([X_train, Y_train], axis=1)\n",
        "X_test = pd.concat([X_test, Y_test], axis=1)\n",
        "train_dataset = Data(data=X_train)\n",
        "test_dataset = Data(data=X_test)"
      ],
      "metadata": {
        "id": "spfhpozfqoX2"
      },
      "execution_count": 49,
      "outputs": []
    },
    {
      "cell_type": "code",
      "source": [
        "train_batchsize = 512\n",
        "val_batchsize = 512\n",
        "\n",
        "train_dataloader = DataLoader(dataset=train_dataset, batch_size=train_batchsize, shuffle=True)\n",
        "test_dataloader = DataLoader(dataset=test_dataset, batch_size=val_batchsize, shuffle=True)"
      ],
      "metadata": {
        "id": "DhG5KUl8q2I3"
      },
      "execution_count": 50,
      "outputs": []
    },
    {
      "cell_type": "code",
      "source": [
        "n_epochs = 5"
      ],
      "metadata": {
        "id": "iqgQA_i-rMfu"
      },
      "execution_count": 51,
      "outputs": []
    },
    {
      "cell_type": "code",
      "source": [
        "in_dim = X_final.shape[1]\n",
        "in_dim"
      ],
      "metadata": {
        "colab": {
          "base_uri": "https://localhost:8080/"
        },
        "id": "v1qSVrHQrOGk",
        "outputId": "496be317-2d6f-4b3a-ef4c-150bcdeb786d"
      },
      "execution_count": 52,
      "outputs": [
        {
          "output_type": "execute_result",
          "data": {
            "text/plain": [
              "2282"
            ]
          },
          "metadata": {},
          "execution_count": 52
        }
      ]
    },
    {
      "cell_type": "code",
      "source": [
        "model = ANN(\n",
        "\tin_dim = in_dim,\n",
        "\thidden_dim_1 = in_dim // 2,\n",
        "\thidden_dim_2 = in_dim // 4,\n",
        "\thidden_dim_3 = in_dim // 8,\n",
        "  hidden_dim_4 = 3\n",
        ").to(device)"
      ],
      "metadata": {
        "id": "Y2HbV7BIrQ7W"
      },
      "execution_count": 53,
      "outputs": []
    },
    {
      "cell_type": "code",
      "source": [
        "lr = 1e-3\n",
        "optimiser = torch.optim.Adam(model.parameters(), lr=lr)\n",
        "loss_fn = torch.nn.CrossEntropyLoss()"
      ],
      "metadata": {
        "id": "J-7bJRskrS9O"
      },
      "execution_count": 54,
      "outputs": []
    },
    {
      "cell_type": "code",
      "source": [
        "sanity_check=False"
      ],
      "metadata": {
        "id": "k-iKZhNHrWEg"
      },
      "execution_count": 55,
      "outputs": []
    },
    {
      "cell_type": "code",
      "source": [
        "def train_epoch(\n",
        "    model,\n",
        "    dataloader,\n",
        "    optimiser\n",
        "):\n",
        "    model.train()\n",
        "\n",
        "    for batch in tqdm(dataloader):\n",
        "        x, y = batch[0], batch[1]\n",
        "\n",
        "        output = model(x)\n",
        "        output = nn.Softmax(dim=-1)(output)\n",
        "        loss = loss_fn(output, y)\n",
        "\n",
        "        optimiser.zero_grad()\n",
        "        loss.backward()\n",
        "        optimiser.step()\n",
        "\n",
        "        if sanity_check:\n",
        "            break\n",
        "\n",
        "def validate(\n",
        "    model,\n",
        "    dataloader\n",
        "):\n",
        "    model.eval()\n",
        "    total_loss = 0\n",
        "    predictions = []\n",
        "    truths = []\n",
        "\n",
        "    with torch.no_grad():\n",
        "        for batch in tqdm(dataloader):\n",
        "            x, y = batch[0], batch[1]\n",
        "\n",
        "            output = model(x)\n",
        "            output = nn.Softmax(dim=-1)(output)\n",
        "            loss = loss_fn(output, y)\n",
        "            total_loss += loss.detach().cpu().item()/len(dataloader)\n",
        "\n",
        "            preds = torch.argmax(output, dim=-1)\n",
        "            predictions.extend(preds.cpu())\n",
        "            truths.extend(y.cpu())\n",
        "\n",
        "            if sanity_check:\n",
        "                break\n",
        "\n",
        "    acc = accuracy_score(y_true=truths, y_pred=predictions)\n",
        "    f1 = f1_score(y_true=truths, y_pred=predictions, average='macro')\n",
        "\n",
        "    return total_loss, acc, f1"
      ],
      "metadata": {
        "id": "2ZaYnRK4rXXe"
      },
      "execution_count": 56,
      "outputs": []
    },
    {
      "cell_type": "code",
      "source": [
        "def train_model(\n",
        "    model,\n",
        "    train_dataloader,\n",
        "    test_dataloader,\n",
        "    optimiser\n",
        "):\n",
        "    for epoch in range(1, n_epochs+1):\n",
        "        start_time = time.time()\n",
        "\n",
        "        print(f\"========= EPOCH {epoch} STARTED =========\")\n",
        "        train_epoch(model=model, dataloader=train_dataloader, optimiser=optimiser)\n",
        "\n",
        "        print(f\"========= TRAIN EVALUATION STARTED =========\")\n",
        "        train_val_op = validate(model=model, dataloader=train_dataloader)\n",
        "\n",
        "        print(f\"========= TEST EVALUATION STARTED =========\")\n",
        "        test_val_op = validate(model=model, dataloader=test_dataloader)\n",
        "\n",
        "        print(f\"END OF {epoch} EPOCH\")\n",
        "        print(f\"| Time taken: {time.time() - start_time: 7.3f} |\")\n",
        "        print(f\"| Train Loss: {train_val_op[0]: 7.3f} | Train acc: {train_val_op[1]: 1.5f} | Train f1: {train_val_op[2]: 1.5f} |\")\n",
        "        print(f\"| Test Loss: {test_val_op[0]: 7.3f}  | Test acc: {test_val_op[1]: 1.5f}  | Test f1: {test_val_op[2]: 1.5f}  |\")\n",
        "\n",
        "        if sanity_check:\n",
        "            break"
      ],
      "metadata": {
        "id": "iBdm6PPBrf8-"
      },
      "execution_count": 57,
      "outputs": []
    },
    {
      "cell_type": "code",
      "source": [
        "train_model(\n",
        "    model=model,\n",
        "    train_dataloader=train_dataloader,\n",
        "    test_dataloader=test_dataloader,\n",
        "    optimiser=optimiser\n",
        ")"
      ],
      "metadata": {
        "colab": {
          "base_uri": "https://localhost:8080/"
        },
        "id": "go9djqh-ri02",
        "outputId": "3b7d4ae1-44e2-48db-ad73-e6b926c4de47"
      },
      "execution_count": 58,
      "outputs": [
        {
          "output_type": "stream",
          "name": "stdout",
          "text": [
            "========= EPOCH 1 STARTED =========\n"
          ]
        },
        {
          "output_type": "stream",
          "name": "stderr",
          "text": [
            "100%|██████████| 112/112 [00:26<00:00,  4.19it/s]\n"
          ]
        },
        {
          "output_type": "stream",
          "name": "stdout",
          "text": [
            "========= TRAIN EVALUATION STARTED =========\n"
          ]
        },
        {
          "output_type": "stream",
          "name": "stderr",
          "text": [
            "100%|██████████| 112/112 [00:13<00:00,  8.13it/s]\n"
          ]
        },
        {
          "output_type": "stream",
          "name": "stdout",
          "text": [
            "========= TEST EVALUATION STARTED =========\n"
          ]
        },
        {
          "output_type": "stream",
          "name": "stderr",
          "text": [
            "100%|██████████| 28/28 [00:02<00:00, 11.33it/s]\n"
          ]
        },
        {
          "output_type": "stream",
          "name": "stdout",
          "text": [
            "END OF 1 EPOCH\n",
            "| Time taken:  51.922 |\n",
            "| Train Loss:   0.954 | Train acc:  0.66821 | Train f1:  0.47062 |\n",
            "| Test Loss:   0.958  | Test acc:  0.66213  | Test f1:  0.46541  |\n",
            "========= EPOCH 2 STARTED =========\n"
          ]
        },
        {
          "output_type": "stream",
          "name": "stderr",
          "text": [
            "100%|██████████| 112/112 [00:27<00:00,  4.00it/s]\n"
          ]
        },
        {
          "output_type": "stream",
          "name": "stdout",
          "text": [
            "========= TRAIN EVALUATION STARTED =========\n"
          ]
        },
        {
          "output_type": "stream",
          "name": "stderr",
          "text": [
            "100%|██████████| 112/112 [00:13<00:00,  8.40it/s]\n"
          ]
        },
        {
          "output_type": "stream",
          "name": "stdout",
          "text": [
            "========= TEST EVALUATION STARTED =========\n"
          ]
        },
        {
          "output_type": "stream",
          "name": "stderr",
          "text": [
            "100%|██████████| 28/28 [00:02<00:00, 10.36it/s]\n"
          ]
        },
        {
          "output_type": "stream",
          "name": "stdout",
          "text": [
            "END OF 2 EPOCH\n",
            "| Time taken:  52.760 |\n",
            "| Train Loss:   0.892 | Train acc:  0.70403 | Train f1:  0.48075 |\n",
            "| Test Loss:   0.897  | Test acc:  0.69827  | Test f1:  0.47567  |\n",
            "========= EPOCH 3 STARTED =========\n"
          ]
        },
        {
          "output_type": "stream",
          "name": "stderr",
          "text": [
            "100%|██████████| 112/112 [00:25<00:00,  4.35it/s]\n"
          ]
        },
        {
          "output_type": "stream",
          "name": "stdout",
          "text": [
            "========= TRAIN EVALUATION STARTED =========\n"
          ]
        },
        {
          "output_type": "stream",
          "name": "stderr",
          "text": [
            "100%|██████████| 112/112 [00:13<00:00,  8.39it/s]\n"
          ]
        },
        {
          "output_type": "stream",
          "name": "stdout",
          "text": [
            "========= TEST EVALUATION STARTED =========\n"
          ]
        },
        {
          "output_type": "stream",
          "name": "stderr",
          "text": [
            "100%|██████████| 28/28 [00:02<00:00, 11.44it/s]\n"
          ]
        },
        {
          "output_type": "stream",
          "name": "stdout",
          "text": [
            "END OF 3 EPOCH\n",
            "| Time taken:  50.040 |\n",
            "| Train Loss:   0.844 | Train acc:  0.72245 | Train f1:  0.49441 |\n",
            "| Test Loss:   0.850  | Test acc:  0.71757  | Test f1:  0.49076  |\n",
            "========= EPOCH 4 STARTED =========\n"
          ]
        },
        {
          "output_type": "stream",
          "name": "stderr",
          "text": [
            "100%|██████████| 112/112 [00:26<00:00,  4.27it/s]\n"
          ]
        },
        {
          "output_type": "stream",
          "name": "stdout",
          "text": [
            "========= TRAIN EVALUATION STARTED =========\n"
          ]
        },
        {
          "output_type": "stream",
          "name": "stderr",
          "text": [
            "100%|██████████| 112/112 [00:13<00:00,  8.15it/s]\n"
          ]
        },
        {
          "output_type": "stream",
          "name": "stdout",
          "text": [
            "========= TEST EVALUATION STARTED =========\n"
          ]
        },
        {
          "output_type": "stream",
          "name": "stderr",
          "text": [
            "100%|██████████| 28/28 [00:02<00:00, 11.35it/s]\n"
          ]
        },
        {
          "output_type": "stream",
          "name": "stdout",
          "text": [
            "END OF 4 EPOCH\n",
            "| Time taken:  51.526 |\n",
            "| Train Loss:   0.841 | Train acc:  0.71848 | Train f1:  0.49081 |\n",
            "| Test Loss:   0.848  | Test acc:  0.71210  | Test f1:  0.48526  |\n",
            "========= EPOCH 5 STARTED =========\n"
          ]
        },
        {
          "output_type": "stream",
          "name": "stderr",
          "text": [
            "100%|██████████| 112/112 [00:26<00:00,  4.28it/s]\n"
          ]
        },
        {
          "output_type": "stream",
          "name": "stdout",
          "text": [
            "========= TRAIN EVALUATION STARTED =========\n"
          ]
        },
        {
          "output_type": "stream",
          "name": "stderr",
          "text": [
            "100%|██████████| 112/112 [00:13<00:00,  8.15it/s]\n"
          ]
        },
        {
          "output_type": "stream",
          "name": "stdout",
          "text": [
            "========= TEST EVALUATION STARTED =========\n"
          ]
        },
        {
          "output_type": "stream",
          "name": "stderr",
          "text": [
            "100%|██████████| 28/28 [00:02<00:00, 10.74it/s]\n"
          ]
        },
        {
          "output_type": "stream",
          "name": "stdout",
          "text": [
            "END OF 5 EPOCH\n",
            "| Time taken:  51.251 |\n",
            "| Train Loss:   0.833 | Train acc:  0.72678 | Train f1:  0.50034 |\n",
            "| Test Loss:   0.844  | Test acc:  0.71414  | Test f1:  0.49111  |\n"
          ]
        }
      ]
    },
    {
      "cell_type": "code",
      "source": [
        "test_df_encoded"
      ],
      "metadata": {
        "colab": {
          "base_uri": "https://localhost:8080/",
          "height": 444
        },
        "id": "srtu_YVhudaP",
        "outputId": "b2f2d320-a0db-4438-8b6b-c241cbe2582a"
      },
      "execution_count": 59,
      "outputs": [
        {
          "output_type": "execute_result",
          "data": {
            "text/plain": [
              "       admission_type_id  discharge_disposition_id  admission_source_id  \\\n",
              "0                      5                         5                   17   \n",
              "1                      2                         3                    7   \n",
              "2                      3                         1                    1   \n",
              "3                      1                         3                    7   \n",
              "4                      1                         6                    7   \n",
              "...                  ...                       ...                  ...   \n",
              "30525                  1                         6                    7   \n",
              "30526                  3                        18                    4   \n",
              "30527                  1                         3                    7   \n",
              "30528                  1                         3                    7   \n",
              "30529                  1                         1                    7   \n",
              "\n",
              "       time_in_hospital  num_lab_procedures  num_procedures  num_medications  \\\n",
              "0                    12                  25               3               29   \n",
              "1                     3                  59               0               24   \n",
              "2                     8                  47               0               23   \n",
              "3                    10                  46               6               38   \n",
              "4                     5                  64               1               16   \n",
              "...                 ...                 ...             ...              ...   \n",
              "30525                 2                  44               0               19   \n",
              "30526                 2                  19               3               10   \n",
              "30527                 5                  73               3               24   \n",
              "30528                 2                  63               0               13   \n",
              "30529                 6                  53               6               24   \n",
              "\n",
              "       number_outpatient  number_emergency  number_inpatient  ...  \\\n",
              "0                      0                 0                 4  ...   \n",
              "1                      0                 1                 0  ...   \n",
              "2                      0                 0                 0  ...   \n",
              "3                      0                 2                 7  ...   \n",
              "4                      0                 0                 1  ...   \n",
              "...                  ...               ...               ...  ...   \n",
              "30525                  0                 2                 0  ...   \n",
              "30526                  0                 0                 0  ...   \n",
              "30527                  0                 0                 1  ...   \n",
              "30528                  0                 0                 1  ...   \n",
              "30529                  0                 0                 0  ...   \n",
              "\n",
              "       rosiglitazone_Steady  rosiglitazone_Up  insulin_Down  insulin_No  \\\n",
              "0                       0.0               0.0           0.0         0.0   \n",
              "1                       0.0               0.0           1.0         0.0   \n",
              "2                       0.0               0.0           1.0         0.0   \n",
              "3                       0.0               0.0           0.0         0.0   \n",
              "4                       0.0               0.0           0.0         1.0   \n",
              "...                     ...               ...           ...         ...   \n",
              "30525                   0.0               0.0           0.0         1.0   \n",
              "30526                   0.0               0.0           0.0         1.0   \n",
              "30527                   0.0               0.0           0.0         0.0   \n",
              "30528                   0.0               0.0           0.0         1.0   \n",
              "30529                   0.0               0.0           0.0         0.0   \n",
              "\n",
              "       insulin_Steady  insulin_Up  change_Ch  change_No  diabetesMed_No  \\\n",
              "0                 1.0         0.0        0.0        1.0             0.0   \n",
              "1                 0.0         0.0        1.0        0.0             0.0   \n",
              "2                 0.0         0.0        1.0        0.0             0.0   \n",
              "3                 0.0         1.0        1.0        0.0             0.0   \n",
              "4                 0.0         0.0        0.0        1.0             1.0   \n",
              "...               ...         ...        ...        ...             ...   \n",
              "30525             0.0         0.0        0.0        1.0             0.0   \n",
              "30526             0.0         0.0        0.0        1.0             1.0   \n",
              "30527             0.0         1.0        1.0        0.0             0.0   \n",
              "30528             0.0         0.0        1.0        0.0             0.0   \n",
              "30529             1.0         0.0        0.0        1.0             0.0   \n",
              "\n",
              "       diabetesMed_Yes  \n",
              "0                  1.0  \n",
              "1                  1.0  \n",
              "2                  1.0  \n",
              "3                  1.0  \n",
              "4                  0.0  \n",
              "...                ...  \n",
              "30525              1.0  \n",
              "30526              0.0  \n",
              "30527              1.0  \n",
              "30528              1.0  \n",
              "30529              1.0  \n",
              "\n",
              "[30530 rows x 2282 columns]"
            ],
            "text/html": [
              "\n",
              "  <div id=\"df-4fb6951e-9729-410f-924b-102a2a91de93\" class=\"colab-df-container\">\n",
              "    <div>\n",
              "<style scoped>\n",
              "    .dataframe tbody tr th:only-of-type {\n",
              "        vertical-align: middle;\n",
              "    }\n",
              "\n",
              "    .dataframe tbody tr th {\n",
              "        vertical-align: top;\n",
              "    }\n",
              "\n",
              "    .dataframe thead th {\n",
              "        text-align: right;\n",
              "    }\n",
              "</style>\n",
              "<table border=\"1\" class=\"dataframe\">\n",
              "  <thead>\n",
              "    <tr style=\"text-align: right;\">\n",
              "      <th></th>\n",
              "      <th>admission_type_id</th>\n",
              "      <th>discharge_disposition_id</th>\n",
              "      <th>admission_source_id</th>\n",
              "      <th>time_in_hospital</th>\n",
              "      <th>num_lab_procedures</th>\n",
              "      <th>num_procedures</th>\n",
              "      <th>num_medications</th>\n",
              "      <th>number_outpatient</th>\n",
              "      <th>number_emergency</th>\n",
              "      <th>number_inpatient</th>\n",
              "      <th>...</th>\n",
              "      <th>rosiglitazone_Steady</th>\n",
              "      <th>rosiglitazone_Up</th>\n",
              "      <th>insulin_Down</th>\n",
              "      <th>insulin_No</th>\n",
              "      <th>insulin_Steady</th>\n",
              "      <th>insulin_Up</th>\n",
              "      <th>change_Ch</th>\n",
              "      <th>change_No</th>\n",
              "      <th>diabetesMed_No</th>\n",
              "      <th>diabetesMed_Yes</th>\n",
              "    </tr>\n",
              "  </thead>\n",
              "  <tbody>\n",
              "    <tr>\n",
              "      <th>0</th>\n",
              "      <td>5</td>\n",
              "      <td>5</td>\n",
              "      <td>17</td>\n",
              "      <td>12</td>\n",
              "      <td>25</td>\n",
              "      <td>3</td>\n",
              "      <td>29</td>\n",
              "      <td>0</td>\n",
              "      <td>0</td>\n",
              "      <td>4</td>\n",
              "      <td>...</td>\n",
              "      <td>0.0</td>\n",
              "      <td>0.0</td>\n",
              "      <td>0.0</td>\n",
              "      <td>0.0</td>\n",
              "      <td>1.0</td>\n",
              "      <td>0.0</td>\n",
              "      <td>0.0</td>\n",
              "      <td>1.0</td>\n",
              "      <td>0.0</td>\n",
              "      <td>1.0</td>\n",
              "    </tr>\n",
              "    <tr>\n",
              "      <th>1</th>\n",
              "      <td>2</td>\n",
              "      <td>3</td>\n",
              "      <td>7</td>\n",
              "      <td>3</td>\n",
              "      <td>59</td>\n",
              "      <td>0</td>\n",
              "      <td>24</td>\n",
              "      <td>0</td>\n",
              "      <td>1</td>\n",
              "      <td>0</td>\n",
              "      <td>...</td>\n",
              "      <td>0.0</td>\n",
              "      <td>0.0</td>\n",
              "      <td>1.0</td>\n",
              "      <td>0.0</td>\n",
              "      <td>0.0</td>\n",
              "      <td>0.0</td>\n",
              "      <td>1.0</td>\n",
              "      <td>0.0</td>\n",
              "      <td>0.0</td>\n",
              "      <td>1.0</td>\n",
              "    </tr>\n",
              "    <tr>\n",
              "      <th>2</th>\n",
              "      <td>3</td>\n",
              "      <td>1</td>\n",
              "      <td>1</td>\n",
              "      <td>8</td>\n",
              "      <td>47</td>\n",
              "      <td>0</td>\n",
              "      <td>23</td>\n",
              "      <td>0</td>\n",
              "      <td>0</td>\n",
              "      <td>0</td>\n",
              "      <td>...</td>\n",
              "      <td>0.0</td>\n",
              "      <td>0.0</td>\n",
              "      <td>1.0</td>\n",
              "      <td>0.0</td>\n",
              "      <td>0.0</td>\n",
              "      <td>0.0</td>\n",
              "      <td>1.0</td>\n",
              "      <td>0.0</td>\n",
              "      <td>0.0</td>\n",
              "      <td>1.0</td>\n",
              "    </tr>\n",
              "    <tr>\n",
              "      <th>3</th>\n",
              "      <td>1</td>\n",
              "      <td>3</td>\n",
              "      <td>7</td>\n",
              "      <td>10</td>\n",
              "      <td>46</td>\n",
              "      <td>6</td>\n",
              "      <td>38</td>\n",
              "      <td>0</td>\n",
              "      <td>2</td>\n",
              "      <td>7</td>\n",
              "      <td>...</td>\n",
              "      <td>0.0</td>\n",
              "      <td>0.0</td>\n",
              "      <td>0.0</td>\n",
              "      <td>0.0</td>\n",
              "      <td>0.0</td>\n",
              "      <td>1.0</td>\n",
              "      <td>1.0</td>\n",
              "      <td>0.0</td>\n",
              "      <td>0.0</td>\n",
              "      <td>1.0</td>\n",
              "    </tr>\n",
              "    <tr>\n",
              "      <th>4</th>\n",
              "      <td>1</td>\n",
              "      <td>6</td>\n",
              "      <td>7</td>\n",
              "      <td>5</td>\n",
              "      <td>64</td>\n",
              "      <td>1</td>\n",
              "      <td>16</td>\n",
              "      <td>0</td>\n",
              "      <td>0</td>\n",
              "      <td>1</td>\n",
              "      <td>...</td>\n",
              "      <td>0.0</td>\n",
              "      <td>0.0</td>\n",
              "      <td>0.0</td>\n",
              "      <td>1.0</td>\n",
              "      <td>0.0</td>\n",
              "      <td>0.0</td>\n",
              "      <td>0.0</td>\n",
              "      <td>1.0</td>\n",
              "      <td>1.0</td>\n",
              "      <td>0.0</td>\n",
              "    </tr>\n",
              "    <tr>\n",
              "      <th>...</th>\n",
              "      <td>...</td>\n",
              "      <td>...</td>\n",
              "      <td>...</td>\n",
              "      <td>...</td>\n",
              "      <td>...</td>\n",
              "      <td>...</td>\n",
              "      <td>...</td>\n",
              "      <td>...</td>\n",
              "      <td>...</td>\n",
              "      <td>...</td>\n",
              "      <td>...</td>\n",
              "      <td>...</td>\n",
              "      <td>...</td>\n",
              "      <td>...</td>\n",
              "      <td>...</td>\n",
              "      <td>...</td>\n",
              "      <td>...</td>\n",
              "      <td>...</td>\n",
              "      <td>...</td>\n",
              "      <td>...</td>\n",
              "      <td>...</td>\n",
              "    </tr>\n",
              "    <tr>\n",
              "      <th>30525</th>\n",
              "      <td>1</td>\n",
              "      <td>6</td>\n",
              "      <td>7</td>\n",
              "      <td>2</td>\n",
              "      <td>44</td>\n",
              "      <td>0</td>\n",
              "      <td>19</td>\n",
              "      <td>0</td>\n",
              "      <td>2</td>\n",
              "      <td>0</td>\n",
              "      <td>...</td>\n",
              "      <td>0.0</td>\n",
              "      <td>0.0</td>\n",
              "      <td>0.0</td>\n",
              "      <td>1.0</td>\n",
              "      <td>0.0</td>\n",
              "      <td>0.0</td>\n",
              "      <td>0.0</td>\n",
              "      <td>1.0</td>\n",
              "      <td>0.0</td>\n",
              "      <td>1.0</td>\n",
              "    </tr>\n",
              "    <tr>\n",
              "      <th>30526</th>\n",
              "      <td>3</td>\n",
              "      <td>18</td>\n",
              "      <td>4</td>\n",
              "      <td>2</td>\n",
              "      <td>19</td>\n",
              "      <td>3</td>\n",
              "      <td>10</td>\n",
              "      <td>0</td>\n",
              "      <td>0</td>\n",
              "      <td>0</td>\n",
              "      <td>...</td>\n",
              "      <td>0.0</td>\n",
              "      <td>0.0</td>\n",
              "      <td>0.0</td>\n",
              "      <td>1.0</td>\n",
              "      <td>0.0</td>\n",
              "      <td>0.0</td>\n",
              "      <td>0.0</td>\n",
              "      <td>1.0</td>\n",
              "      <td>1.0</td>\n",
              "      <td>0.0</td>\n",
              "    </tr>\n",
              "    <tr>\n",
              "      <th>30527</th>\n",
              "      <td>1</td>\n",
              "      <td>3</td>\n",
              "      <td>7</td>\n",
              "      <td>5</td>\n",
              "      <td>73</td>\n",
              "      <td>3</td>\n",
              "      <td>24</td>\n",
              "      <td>0</td>\n",
              "      <td>0</td>\n",
              "      <td>1</td>\n",
              "      <td>...</td>\n",
              "      <td>0.0</td>\n",
              "      <td>0.0</td>\n",
              "      <td>0.0</td>\n",
              "      <td>0.0</td>\n",
              "      <td>0.0</td>\n",
              "      <td>1.0</td>\n",
              "      <td>1.0</td>\n",
              "      <td>0.0</td>\n",
              "      <td>0.0</td>\n",
              "      <td>1.0</td>\n",
              "    </tr>\n",
              "    <tr>\n",
              "      <th>30528</th>\n",
              "      <td>1</td>\n",
              "      <td>3</td>\n",
              "      <td>7</td>\n",
              "      <td>2</td>\n",
              "      <td>63</td>\n",
              "      <td>0</td>\n",
              "      <td>13</td>\n",
              "      <td>0</td>\n",
              "      <td>0</td>\n",
              "      <td>1</td>\n",
              "      <td>...</td>\n",
              "      <td>0.0</td>\n",
              "      <td>0.0</td>\n",
              "      <td>0.0</td>\n",
              "      <td>1.0</td>\n",
              "      <td>0.0</td>\n",
              "      <td>0.0</td>\n",
              "      <td>1.0</td>\n",
              "      <td>0.0</td>\n",
              "      <td>0.0</td>\n",
              "      <td>1.0</td>\n",
              "    </tr>\n",
              "    <tr>\n",
              "      <th>30529</th>\n",
              "      <td>1</td>\n",
              "      <td>1</td>\n",
              "      <td>7</td>\n",
              "      <td>6</td>\n",
              "      <td>53</td>\n",
              "      <td>6</td>\n",
              "      <td>24</td>\n",
              "      <td>0</td>\n",
              "      <td>0</td>\n",
              "      <td>0</td>\n",
              "      <td>...</td>\n",
              "      <td>0.0</td>\n",
              "      <td>0.0</td>\n",
              "      <td>0.0</td>\n",
              "      <td>0.0</td>\n",
              "      <td>1.0</td>\n",
              "      <td>0.0</td>\n",
              "      <td>0.0</td>\n",
              "      <td>1.0</td>\n",
              "      <td>0.0</td>\n",
              "      <td>1.0</td>\n",
              "    </tr>\n",
              "  </tbody>\n",
              "</table>\n",
              "<p>30530 rows × 2282 columns</p>\n",
              "</div>\n",
              "    <div class=\"colab-df-buttons\">\n",
              "\n",
              "  <div class=\"colab-df-container\">\n",
              "    <button class=\"colab-df-convert\" onclick=\"convertToInteractive('df-4fb6951e-9729-410f-924b-102a2a91de93')\"\n",
              "            title=\"Convert this dataframe to an interactive table.\"\n",
              "            style=\"display:none;\">\n",
              "\n",
              "  <svg xmlns=\"http://www.w3.org/2000/svg\" height=\"24px\" viewBox=\"0 -960 960 960\">\n",
              "    <path d=\"M120-120v-720h720v720H120Zm60-500h600v-160H180v160Zm220 220h160v-160H400v160Zm0 220h160v-160H400v160ZM180-400h160v-160H180v160Zm440 0h160v-160H620v160ZM180-180h160v-160H180v160Zm440 0h160v-160H620v160Z\"/>\n",
              "  </svg>\n",
              "    </button>\n",
              "\n",
              "  <style>\n",
              "    .colab-df-container {\n",
              "      display:flex;\n",
              "      gap: 12px;\n",
              "    }\n",
              "\n",
              "    .colab-df-convert {\n",
              "      background-color: #E8F0FE;\n",
              "      border: none;\n",
              "      border-radius: 50%;\n",
              "      cursor: pointer;\n",
              "      display: none;\n",
              "      fill: #1967D2;\n",
              "      height: 32px;\n",
              "      padding: 0 0 0 0;\n",
              "      width: 32px;\n",
              "    }\n",
              "\n",
              "    .colab-df-convert:hover {\n",
              "      background-color: #E2EBFA;\n",
              "      box-shadow: 0px 1px 2px rgba(60, 64, 67, 0.3), 0px 1px 3px 1px rgba(60, 64, 67, 0.15);\n",
              "      fill: #174EA6;\n",
              "    }\n",
              "\n",
              "    .colab-df-buttons div {\n",
              "      margin-bottom: 4px;\n",
              "    }\n",
              "\n",
              "    [theme=dark] .colab-df-convert {\n",
              "      background-color: #3B4455;\n",
              "      fill: #D2E3FC;\n",
              "    }\n",
              "\n",
              "    [theme=dark] .colab-df-convert:hover {\n",
              "      background-color: #434B5C;\n",
              "      box-shadow: 0px 1px 3px 1px rgba(0, 0, 0, 0.15);\n",
              "      filter: drop-shadow(0px 1px 2px rgba(0, 0, 0, 0.3));\n",
              "      fill: #FFFFFF;\n",
              "    }\n",
              "  </style>\n",
              "\n",
              "    <script>\n",
              "      const buttonEl =\n",
              "        document.querySelector('#df-4fb6951e-9729-410f-924b-102a2a91de93 button.colab-df-convert');\n",
              "      buttonEl.style.display =\n",
              "        google.colab.kernel.accessAllowed ? 'block' : 'none';\n",
              "\n",
              "      async function convertToInteractive(key) {\n",
              "        const element = document.querySelector('#df-4fb6951e-9729-410f-924b-102a2a91de93');\n",
              "        const dataTable =\n",
              "          await google.colab.kernel.invokeFunction('convertToInteractive',\n",
              "                                                    [key], {});\n",
              "        if (!dataTable) return;\n",
              "\n",
              "        const docLinkHtml = 'Like what you see? Visit the ' +\n",
              "          '<a target=\"_blank\" href=https://colab.research.google.com/notebooks/data_table.ipynb>data table notebook</a>'\n",
              "          + ' to learn more about interactive tables.';\n",
              "        element.innerHTML = '';\n",
              "        dataTable['output_type'] = 'display_data';\n",
              "        await google.colab.output.renderOutput(dataTable, element);\n",
              "        const docLink = document.createElement('div');\n",
              "        docLink.innerHTML = docLinkHtml;\n",
              "        element.appendChild(docLink);\n",
              "      }\n",
              "    </script>\n",
              "  </div>\n",
              "\n",
              "\n",
              "<div id=\"df-39a87c9c-719f-4de1-97b4-eac2d6fe2be2\">\n",
              "  <button class=\"colab-df-quickchart\" onclick=\"quickchart('df-39a87c9c-719f-4de1-97b4-eac2d6fe2be2')\"\n",
              "            title=\"Suggest charts\"\n",
              "            style=\"display:none;\">\n",
              "\n",
              "<svg xmlns=\"http://www.w3.org/2000/svg\" height=\"24px\"viewBox=\"0 0 24 24\"\n",
              "     width=\"24px\">\n",
              "    <g>\n",
              "        <path d=\"M19 3H5c-1.1 0-2 .9-2 2v14c0 1.1.9 2 2 2h14c1.1 0 2-.9 2-2V5c0-1.1-.9-2-2-2zM9 17H7v-7h2v7zm4 0h-2V7h2v10zm4 0h-2v-4h2v4z\"/>\n",
              "    </g>\n",
              "</svg>\n",
              "  </button>\n",
              "\n",
              "<style>\n",
              "  .colab-df-quickchart {\n",
              "      --bg-color: #E8F0FE;\n",
              "      --fill-color: #1967D2;\n",
              "      --hover-bg-color: #E2EBFA;\n",
              "      --hover-fill-color: #174EA6;\n",
              "      --disabled-fill-color: #AAA;\n",
              "      --disabled-bg-color: #DDD;\n",
              "  }\n",
              "\n",
              "  [theme=dark] .colab-df-quickchart {\n",
              "      --bg-color: #3B4455;\n",
              "      --fill-color: #D2E3FC;\n",
              "      --hover-bg-color: #434B5C;\n",
              "      --hover-fill-color: #FFFFFF;\n",
              "      --disabled-bg-color: #3B4455;\n",
              "      --disabled-fill-color: #666;\n",
              "  }\n",
              "\n",
              "  .colab-df-quickchart {\n",
              "    background-color: var(--bg-color);\n",
              "    border: none;\n",
              "    border-radius: 50%;\n",
              "    cursor: pointer;\n",
              "    display: none;\n",
              "    fill: var(--fill-color);\n",
              "    height: 32px;\n",
              "    padding: 0;\n",
              "    width: 32px;\n",
              "  }\n",
              "\n",
              "  .colab-df-quickchart:hover {\n",
              "    background-color: var(--hover-bg-color);\n",
              "    box-shadow: 0 1px 2px rgba(60, 64, 67, 0.3), 0 1px 3px 1px rgba(60, 64, 67, 0.15);\n",
              "    fill: var(--button-hover-fill-color);\n",
              "  }\n",
              "\n",
              "  .colab-df-quickchart-complete:disabled,\n",
              "  .colab-df-quickchart-complete:disabled:hover {\n",
              "    background-color: var(--disabled-bg-color);\n",
              "    fill: var(--disabled-fill-color);\n",
              "    box-shadow: none;\n",
              "  }\n",
              "\n",
              "  .colab-df-spinner {\n",
              "    border: 2px solid var(--fill-color);\n",
              "    border-color: transparent;\n",
              "    border-bottom-color: var(--fill-color);\n",
              "    animation:\n",
              "      spin 1s steps(1) infinite;\n",
              "  }\n",
              "\n",
              "  @keyframes spin {\n",
              "    0% {\n",
              "      border-color: transparent;\n",
              "      border-bottom-color: var(--fill-color);\n",
              "      border-left-color: var(--fill-color);\n",
              "    }\n",
              "    20% {\n",
              "      border-color: transparent;\n",
              "      border-left-color: var(--fill-color);\n",
              "      border-top-color: var(--fill-color);\n",
              "    }\n",
              "    30% {\n",
              "      border-color: transparent;\n",
              "      border-left-color: var(--fill-color);\n",
              "      border-top-color: var(--fill-color);\n",
              "      border-right-color: var(--fill-color);\n",
              "    }\n",
              "    40% {\n",
              "      border-color: transparent;\n",
              "      border-right-color: var(--fill-color);\n",
              "      border-top-color: var(--fill-color);\n",
              "    }\n",
              "    60% {\n",
              "      border-color: transparent;\n",
              "      border-right-color: var(--fill-color);\n",
              "    }\n",
              "    80% {\n",
              "      border-color: transparent;\n",
              "      border-right-color: var(--fill-color);\n",
              "      border-bottom-color: var(--fill-color);\n",
              "    }\n",
              "    90% {\n",
              "      border-color: transparent;\n",
              "      border-bottom-color: var(--fill-color);\n",
              "    }\n",
              "  }\n",
              "</style>\n",
              "\n",
              "  <script>\n",
              "    async function quickchart(key) {\n",
              "      const quickchartButtonEl =\n",
              "        document.querySelector('#' + key + ' button');\n",
              "      quickchartButtonEl.disabled = true;  // To prevent multiple clicks.\n",
              "      quickchartButtonEl.classList.add('colab-df-spinner');\n",
              "      try {\n",
              "        const charts = await google.colab.kernel.invokeFunction(\n",
              "            'suggestCharts', [key], {});\n",
              "      } catch (error) {\n",
              "        console.error('Error during call to suggestCharts:', error);\n",
              "      }\n",
              "      quickchartButtonEl.classList.remove('colab-df-spinner');\n",
              "      quickchartButtonEl.classList.add('colab-df-quickchart-complete');\n",
              "    }\n",
              "    (() => {\n",
              "      let quickchartButtonEl =\n",
              "        document.querySelector('#df-39a87c9c-719f-4de1-97b4-eac2d6fe2be2 button');\n",
              "      quickchartButtonEl.style.display =\n",
              "        google.colab.kernel.accessAllowed ? 'block' : 'none';\n",
              "    })();\n",
              "  </script>\n",
              "</div>\n",
              "\n",
              "  <div id=\"id_f4e6698b-2cb2-4513-a129-0399c0e51408\">\n",
              "    <style>\n",
              "      .colab-df-generate {\n",
              "        background-color: #E8F0FE;\n",
              "        border: none;\n",
              "        border-radius: 50%;\n",
              "        cursor: pointer;\n",
              "        display: none;\n",
              "        fill: #1967D2;\n",
              "        height: 32px;\n",
              "        padding: 0 0 0 0;\n",
              "        width: 32px;\n",
              "      }\n",
              "\n",
              "      .colab-df-generate:hover {\n",
              "        background-color: #E2EBFA;\n",
              "        box-shadow: 0px 1px 2px rgba(60, 64, 67, 0.3), 0px 1px 3px 1px rgba(60, 64, 67, 0.15);\n",
              "        fill: #174EA6;\n",
              "      }\n",
              "\n",
              "      [theme=dark] .colab-df-generate {\n",
              "        background-color: #3B4455;\n",
              "        fill: #D2E3FC;\n",
              "      }\n",
              "\n",
              "      [theme=dark] .colab-df-generate:hover {\n",
              "        background-color: #434B5C;\n",
              "        box-shadow: 0px 1px 3px 1px rgba(0, 0, 0, 0.15);\n",
              "        filter: drop-shadow(0px 1px 2px rgba(0, 0, 0, 0.3));\n",
              "        fill: #FFFFFF;\n",
              "      }\n",
              "    </style>\n",
              "    <button class=\"colab-df-generate\" onclick=\"generateWithVariable('test_df_encoded')\"\n",
              "            title=\"Generate code using this dataframe.\"\n",
              "            style=\"display:none;\">\n",
              "\n",
              "  <svg xmlns=\"http://www.w3.org/2000/svg\" height=\"24px\"viewBox=\"0 0 24 24\"\n",
              "       width=\"24px\">\n",
              "    <path d=\"M7,19H8.4L18.45,9,17,7.55,7,17.6ZM5,21V16.75L18.45,3.32a2,2,0,0,1,2.83,0l1.4,1.43a1.91,1.91,0,0,1,.58,1.4,1.91,1.91,0,0,1-.58,1.4L9.25,21ZM18.45,9,17,7.55Zm-12,3A5.31,5.31,0,0,0,4.9,8.1,5.31,5.31,0,0,0,1,6.5,5.31,5.31,0,0,0,4.9,4.9,5.31,5.31,0,0,0,6.5,1,5.31,5.31,0,0,0,8.1,4.9,5.31,5.31,0,0,0,12,6.5,5.46,5.46,0,0,0,6.5,12Z\"/>\n",
              "  </svg>\n",
              "    </button>\n",
              "    <script>\n",
              "      (() => {\n",
              "      const buttonEl =\n",
              "        document.querySelector('#id_f4e6698b-2cb2-4513-a129-0399c0e51408 button.colab-df-generate');\n",
              "      buttonEl.style.display =\n",
              "        google.colab.kernel.accessAllowed ? 'block' : 'none';\n",
              "\n",
              "      buttonEl.onclick = () => {\n",
              "        google.colab.notebook.generateWithVariable('test_df_encoded');\n",
              "      }\n",
              "      })();\n",
              "    </script>\n",
              "  </div>\n",
              "\n",
              "    </div>\n",
              "  </div>\n"
            ]
          },
          "metadata": {},
          "execution_count": 59
        }
      ]
    },
    {
      "cell_type": "code",
      "source": [
        "test_df_encoded = torch.tensor(test_df_encoded.values.astype(np.int64), dtype=torch.float32)\n",
        "print(test_df_encoded)\n",
        "# Assuming model is your PyTorch model\n",
        "predicted_labels = torch.nn.Softmax(dim=-1)(model(test_df_encoded))\n",
        "predicted_labels = torch.max(predicted_labels.data, 1)"
      ],
      "metadata": {
        "colab": {
          "base_uri": "https://localhost:8080/"
        },
        "id": "qb2Z8f5Iszv6",
        "outputId": "c5c96c9f-7e44-409d-d50f-2b466d0db20e"
      },
      "execution_count": 60,
      "outputs": [
        {
          "output_type": "stream",
          "name": "stdout",
          "text": [
            "tensor([[ 5.,  5., 17.,  ...,  1.,  0.,  1.],\n",
            "        [ 2.,  3.,  7.,  ...,  0.,  0.,  1.],\n",
            "        [ 3.,  1.,  1.,  ...,  0.,  0.,  1.],\n",
            "        ...,\n",
            "        [ 1.,  3.,  7.,  ...,  0.,  0.,  1.],\n",
            "        [ 1.,  3.,  7.,  ...,  0.,  0.,  1.],\n",
            "        [ 1.,  1.,  7.,  ...,  1.,  0.,  1.]])\n"
          ]
        }
      ]
    },
    {
      "cell_type": "code",
      "source": [
        "predicted_labels = predicted_labels.indices.numpy()"
      ],
      "metadata": {
        "id": "fbUX88eNwyDL"
      },
      "execution_count": 61,
      "outputs": []
    },
    {
      "cell_type": "code",
      "execution_count": 62,
      "metadata": {
        "id": "f89B4fDDtcO4"
      },
      "outputs": [],
      "source": [
        "subm = pd.read_csv(\"/content/sample_submission.csv\")\n",
        "subm[\"readmission_id\"] = predicted_labels\n",
        "subm.to_csv('submission.csv', index=False)"
      ]
    }
  ],
  "metadata": {
    "colab": {
      "provenance": []
    },
    "kernelspec": {
      "display_name": "Python 3",
      "name": "python3"
    },
    "language_info": {
      "name": "python"
    }
  },
  "nbformat": 4,
  "nbformat_minor": 0
}